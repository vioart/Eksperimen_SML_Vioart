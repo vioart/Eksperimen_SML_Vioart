{
  "cells": [
    {
      "cell_type": "markdown",
      "metadata": {
        "id": "kZLRMFl0JyyQ"
      },
      "source": [
        "# **1. Perkenalan Dataset**\n"
      ]
    },
    {
      "cell_type": "markdown",
      "metadata": {
        "id": "hssSDn-5n3HR"
      },
      "source": [
        "Dataset yang digunakan dalam analisis ini adalah **Medical Learning Resources**, yang berisi informasi tentang berbagai sumber daya pembelajaran medis yang tersedia secara daring. Dataset ini diperoleh dari repositori publik **Kaggle**, tepatnya dari koleksi yang dibuat oleh Gopikrishnan (2023). Dataset ini relevan untuk memahami karakteristik sumber daya pendidikan medis, seperti format, jenis, durasi, topik, organisasi pembuat, dan audiens yang dituju, yang dapat mendukung strategi pemasaran pendidikan atau pengembangan konten pembelajaran.\n",
        "\n",
        "### Sumber Dataset\n",
        "- **Sumber**: Kaggle ([Medical Learning Resources](https://www.kaggle.com/datasets/gopikrishnan2005/medical-learning-resources?select=Learning_Resources_Database_Cleaned.csv)).\n",
        "- **Pembuat**: Gopikrishnan.\n",
        "- **Lisensi**: Data tersedia untuk penggunaan publik di Kaggle, cocok untuk analisis dan penelitian.\n",
        "\n",
        "### Deskripsi Dataset\n",
        "Dataset ini mencakup **488 baris** data yang merepresentasikan sumber daya pembelajaran medis, seperti webinar, video YouTube, tutorial, dan halaman web. Setiap baris berisi informasi tentang sumber daya, termasuk nama, URL, deskripsi, format, jenis, durasi, topik, organisasi pembuat, audiens, serta metadata seperti status pengarsipan dan tanggal revisi. Dataset ini berguna untuk menganalisis tren format pembelajaran, preferensi audiens, atau popularitas topik medis tertentu, seperti Medical Subject Headings (MeSH), PubMed, atau genetika.\n",
        "\n",
        "### Struktur Dataset\n",
        "Dataset terdiri dari **13 kolom** dengan deskripsi sebagai berikut:\n",
        "- **resource_id**: ID unik untuk setiap sumber daya (teks).\n",
        "- **resource_name**: Nama sumber daya, seperti judul webinar atau tutorial (teks).\n",
        "- **resource_url**: Tautan ke sumber daya (teks).\n",
        "- **description**: Deskripsi singkat tentang konten sumber daya (teks).\n",
        "- **archived**: Status apakah sumber daya diarsipkan (True/False, boolean).\n",
        "- **format**: Format sumber daya, misalnya MP4 Video, HTML, PDF (teks).\n",
        "- **type**: Jenis sumber daya, seperti Webinar, YouTube Video, Tutorial (teks).\n",
        "- **runtime**: Durasi sumber daya dalam menit (numerik, ada nilai kosong).\n",
        "- **subject_areas**: Topik yang dibahas, seperti MeSH, PubMed, Genetika (teks, dipisahkan tanda titik koma).\n",
        "- **authoring_organization**: Organisasi yang membuat sumber daya, misalnya Training Team NCBI (teks).\n",
        "- **intended_audiences**: Audiens target, seperti Everyone, Educator, Developer (teks, dipisahkan tanda titik koma).\n",
        "- **record_modified**: Tanggal terakhir modifikasi metadata (teks, format tanggal).\n",
        "- **resource_revised**: Tanggal revisi sumber daya (teks, format tanggal)."
      ]
    },
    {
      "cell_type": "markdown",
      "metadata": {
        "id": "fKADPWcFKlj3"
      },
      "source": [
        "# **2. Import Library**"
      ]
    },
    {
      "cell_type": "markdown",
      "metadata": {
        "id": "LgA3ERnVn84N"
      },
      "source": [
        "Pada tahap ini, Anda perlu mengimpor beberapa pustaka (library) Python yang dibutuhkan untuk analisis data dan pembangunan model machine learning atau deep learning."
      ]
    },
    {
      "cell_type": "code",
      "execution_count": 1,
      "metadata": {
        "id": "BlmvjLY9M4Yj"
      },
      "outputs": [],
      "source": [
        "import pandas as pd\n",
        "import numpy as np\n",
        "import matplotlib.pyplot as plt\n",
        "import seaborn as sns\n",
        "import re\n",
        "from sklearn.feature_extraction.text import TfidfVectorizer\n",
        "from sklearn.metrics.pairwise import cosine_similarity"
      ]
    },
    {
      "cell_type": "markdown",
      "metadata": {
        "id": "f3YIEnAFKrKL"
      },
      "source": [
        "# **3. Memuat Dataset**"
      ]
    },
    {
      "cell_type": "markdown",
      "metadata": {
        "id": "Ey3ItwTen_7E"
      },
      "source": [
        "Pada tahap ini, Anda perlu memuat dataset ke dalam notebook. Jika dataset dalam format CSV, Anda bisa menggunakan pustaka pandas untuk membacanya. Pastikan untuk mengecek beberapa baris awal dataset untuk memahami strukturnya dan memastikan data telah dimuat dengan benar.\n",
        "\n",
        "Jika dataset berada di Google Drive, pastikan Anda menghubungkan Google Drive ke Colab terlebih dahulu. Setelah dataset berhasil dimuat, langkah berikutnya adalah memeriksa kesesuaian data dan siap untuk dianalisis lebih lanjut.\n",
        "\n",
        "Jika dataset berupa unstructured data, silakan sesuaikan dengan format seperti kelas Machine Learning Pengembangan atau Machine Learning Terapan"
      ]
    },
    {
      "cell_type": "markdown",
      "metadata": {},
      "source": [
        "### Melihat Dataset"
      ]
    },
    {
      "cell_type": "code",
      "execution_count": null,
      "metadata": {
        "id": "GHCGNTyrM5fS"
      },
      "outputs": [
        {
          "data": {
            "text/html": [
              "<div>\n",
              "<style scoped>\n",
              "    .dataframe tbody tr th:only-of-type {\n",
              "        vertical-align: middle;\n",
              "    }\n",
              "\n",
              "    .dataframe tbody tr th {\n",
              "        vertical-align: top;\n",
              "    }\n",
              "\n",
              "    .dataframe thead th {\n",
              "        text-align: right;\n",
              "    }\n",
              "</style>\n",
              "<table border=\"1\" class=\"dataframe\">\n",
              "  <thead>\n",
              "    <tr style=\"text-align: right;\">\n",
              "      <th></th>\n",
              "      <th>resource_id</th>\n",
              "      <th>resource_name</th>\n",
              "      <th>resource_url</th>\n",
              "      <th>description</th>\n",
              "      <th>archived</th>\n",
              "      <th>format</th>\n",
              "      <th>type</th>\n",
              "      <th>runtime</th>\n",
              "      <th>subject_areas</th>\n",
              "      <th>authoring_organization</th>\n",
              "      <th>intended_audiences</th>\n",
              "      <th>record_modified</th>\n",
              "      <th>resource_revised</th>\n",
              "    </tr>\n",
              "  </thead>\n",
              "  <tbody>\n",
              "    <tr>\n",
              "      <th>0</th>\n",
              "      <td>L00691080</td>\n",
              "      <td>2018 MeSH Highlights</td>\n",
              "      <td>https://www.nlm.nih.gov/bsd/disted/clinics/mes...</td>\n",
              "      <td>On January 5, 2018, NLM staff provided a highl...</td>\n",
              "      <td>False</td>\n",
              "      <td>MP4 Video</td>\n",
              "      <td>Webinar</td>\n",
              "      <td>21.0</td>\n",
              "      <td>Medical Subject Headings (MeSH); PubMed</td>\n",
              "      <td>Training Team, User Engagement Program</td>\n",
              "      <td>Everyone; Educator; Developer</td>\n",
              "      <td>12/11/2023 12:00:00 AM</td>\n",
              "      <td>01/12/2018 12:00:00 AM</td>\n",
              "    </tr>\n",
              "    <tr>\n",
              "      <th>1</th>\n",
              "      <td>L000854112</td>\n",
              "      <td>2019 MeSH Highlights</td>\n",
              "      <td>https://www.nlm.nih.gov/bsd/disted/clinics/mes...</td>\n",
              "      <td>On January 4, 2019, NLM staff provided a highl...</td>\n",
              "      <td>False</td>\n",
              "      <td>MP4 Video</td>\n",
              "      <td>Webinar</td>\n",
              "      <td>30.0</td>\n",
              "      <td>Medical Subject Headings (MeSH); PubMed</td>\n",
              "      <td>Training Team, User Engagement Program</td>\n",
              "      <td>Everyone; Educator; Developer</td>\n",
              "      <td>06/16/2020 12:00:00 AM</td>\n",
              "      <td>06/16/2020 12:00:00 AM</td>\n",
              "    </tr>\n",
              "    <tr>\n",
              "      <th>2</th>\n",
              "      <td>L001321112</td>\n",
              "      <td>2020 MeSH Highlights</td>\n",
              "      <td>https://www.nlm.nih.gov/oet/ed/mesh/2020_mesh_...</td>\n",
              "      <td>On January 10, 2020, Sarah Helson from the Nat...</td>\n",
              "      <td>False</td>\n",
              "      <td>MP4 Video</td>\n",
              "      <td>Webinar</td>\n",
              "      <td>46.0</td>\n",
              "      <td>Medical Subject Headings (MeSH); PubMed</td>\n",
              "      <td>Training Team, User Engagement Program</td>\n",
              "      <td>Everyone; Educator; Developer</td>\n",
              "      <td>01/25/2021 12:00:00 AM</td>\n",
              "      <td>03/27/2020 12:00:00 AM</td>\n",
              "    </tr>\n",
              "    <tr>\n",
              "      <th>3</th>\n",
              "      <td>L001961112</td>\n",
              "      <td>2021 MeSH Highlights</td>\n",
              "      <td>https://www.nlm.nih.gov/oet/ed/mesh/2021_mesh_...</td>\n",
              "      <td>Every year, updates are made to MeSH, the NLM ...</td>\n",
              "      <td>False</td>\n",
              "      <td>MP4 Video</td>\n",
              "      <td>Webinar</td>\n",
              "      <td>53.0</td>\n",
              "      <td>Medical Subject Headings (MeSH); PubMed</td>\n",
              "      <td>Training Team, User Engagement Program</td>\n",
              "      <td>Everyone; Educator; Developer</td>\n",
              "      <td>01/18/2023 12:00:00 AM</td>\n",
              "      <td>02/17/2021 12:00:00 AM</td>\n",
              "    </tr>\n",
              "    <tr>\n",
              "      <th>4</th>\n",
              "      <td>L002741112</td>\n",
              "      <td>2022 MeSH Highlights</td>\n",
              "      <td>https://www.nlm.nih.gov/oet/ed/mesh/2022_mesh_...</td>\n",
              "      <td>On January 12, 2022, Louise To and a panel of ...</td>\n",
              "      <td>False</td>\n",
              "      <td>MP4 Video</td>\n",
              "      <td>Webinar</td>\n",
              "      <td>53.0</td>\n",
              "      <td>Medical Subject Headings (MeSH); PubMed</td>\n",
              "      <td>Training Team, User Engagement Program</td>\n",
              "      <td>Everyone; Educator; Developer</td>\n",
              "      <td>12/06/2023 12:00:00 AM</td>\n",
              "      <td>02/03/2022 12:00:00 AM</td>\n",
              "    </tr>\n",
              "  </tbody>\n",
              "</table>\n",
              "</div>"
            ],
            "text/plain": [
              "  resource_id         resource_name  \\\n",
              "0   L00691080  2018 MeSH Highlights   \n",
              "1  L000854112  2019 MeSH Highlights   \n",
              "2  L001321112  2020 MeSH Highlights   \n",
              "3  L001961112  2021 MeSH Highlights   \n",
              "4  L002741112  2022 MeSH Highlights   \n",
              "\n",
              "                                        resource_url  \\\n",
              "0  https://www.nlm.nih.gov/bsd/disted/clinics/mes...   \n",
              "1  https://www.nlm.nih.gov/bsd/disted/clinics/mes...   \n",
              "2  https://www.nlm.nih.gov/oet/ed/mesh/2020_mesh_...   \n",
              "3  https://www.nlm.nih.gov/oet/ed/mesh/2021_mesh_...   \n",
              "4  https://www.nlm.nih.gov/oet/ed/mesh/2022_mesh_...   \n",
              "\n",
              "                                         description  archived     format  \\\n",
              "0  On January 5, 2018, NLM staff provided a highl...     False  MP4 Video   \n",
              "1  On January 4, 2019, NLM staff provided a highl...     False  MP4 Video   \n",
              "2  On January 10, 2020, Sarah Helson from the Nat...     False  MP4 Video   \n",
              "3  Every year, updates are made to MeSH, the NLM ...     False  MP4 Video   \n",
              "4  On January 12, 2022, Louise To and a panel of ...     False  MP4 Video   \n",
              "\n",
              "      type runtime                            subject_areas  \\\n",
              "0  Webinar    21.0  Medical Subject Headings (MeSH); PubMed   \n",
              "1  Webinar    30.0  Medical Subject Headings (MeSH); PubMed   \n",
              "2  Webinar    46.0  Medical Subject Headings (MeSH); PubMed   \n",
              "3  Webinar    53.0  Medical Subject Headings (MeSH); PubMed   \n",
              "4  Webinar    53.0  Medical Subject Headings (MeSH); PubMed   \n",
              "\n",
              "                   authoring_organization             intended_audiences  \\\n",
              "0  Training Team, User Engagement Program  Everyone; Educator; Developer   \n",
              "1  Training Team, User Engagement Program  Everyone; Educator; Developer   \n",
              "2  Training Team, User Engagement Program  Everyone; Educator; Developer   \n",
              "3  Training Team, User Engagement Program  Everyone; Educator; Developer   \n",
              "4  Training Team, User Engagement Program  Everyone; Educator; Developer   \n",
              "\n",
              "          record_modified        resource_revised  \n",
              "0  12/11/2023 12:00:00 AM  01/12/2018 12:00:00 AM  \n",
              "1  06/16/2020 12:00:00 AM  06/16/2020 12:00:00 AM  \n",
              "2  01/25/2021 12:00:00 AM  03/27/2020 12:00:00 AM  \n",
              "3  01/18/2023 12:00:00 AM  02/17/2021 12:00:00 AM  \n",
              "4  12/06/2023 12:00:00 AM  02/03/2022 12:00:00 AM  "
            ]
          },
          "execution_count": 2,
          "metadata": {},
          "output_type": "execute_result"
        }
      ],
      "source": [
        "df = pd.read_csv(\"Learning_Resources.csv\")\n",
        "df.head()"
      ]
    },
    {
      "cell_type": "markdown",
      "metadata": {
        "id": "bgZkbJLpK9UR"
      },
      "source": [
        "# **4. Exploratory Data Analysis (EDA)**\n",
        "\n",
        "Pada tahap ini, Anda akan melakukan **Exploratory Data Analysis (EDA)** untuk memahami karakteristik dataset.\n",
        "\n",
        "Tujuan dari EDA adalah untuk memperoleh wawasan awal yang mendalam mengenai data dan menentukan langkah selanjutnya dalam analisis atau pemodelan."
      ]
    },
    {
      "cell_type": "markdown",
      "metadata": {},
      "source": [
        "### Melihat informasi umum pada data dataset"
      ]
    },
    {
      "cell_type": "code",
      "execution_count": 3,
      "metadata": {
        "id": "dKeejtvxM6X1"
      },
      "outputs": [
        {
          "name": "stdout",
          "output_type": "stream",
          "text": [
            "<class 'pandas.core.frame.DataFrame'>\n",
            "RangeIndex: 617 entries, 0 to 616\n",
            "Data columns (total 13 columns):\n",
            " #   Column                  Non-Null Count  Dtype \n",
            "---  ------                  --------------  ----- \n",
            " 0   resource_id             617 non-null    object\n",
            " 1   resource_name           617 non-null    object\n",
            " 2   resource_url            617 non-null    object\n",
            " 3   description             617 non-null    object\n",
            " 4   archived                617 non-null    bool  \n",
            " 5   format                  617 non-null    object\n",
            " 6   type                    617 non-null    object\n",
            " 7   runtime                 617 non-null    object\n",
            " 8   subject_areas           617 non-null    object\n",
            " 9   authoring_organization  617 non-null    object\n",
            " 10  intended_audiences      617 non-null    object\n",
            " 11  record_modified         617 non-null    object\n",
            " 12  resource_revised        617 non-null    object\n",
            "dtypes: bool(1), object(12)\n",
            "memory usage: 58.6+ KB\n"
          ]
        }
      ],
      "source": [
        "df.info()"
      ]
    },
    {
      "cell_type": "markdown",
      "metadata": {},
      "source": [
        "### Melihat panjang dan lebar data"
      ]
    },
    {
      "cell_type": "code",
      "execution_count": 4,
      "metadata": {},
      "outputs": [
        {
          "data": {
            "text/plain": [
              "(617, 13)"
            ]
          },
          "execution_count": 4,
          "metadata": {},
          "output_type": "execute_result"
        }
      ],
      "source": [
        "df.shape"
      ]
    },
    {
      "cell_type": "markdown",
      "metadata": {},
      "source": [
        "### Melihat deskripsi dari data"
      ]
    },
    {
      "cell_type": "code",
      "execution_count": 5,
      "metadata": {},
      "outputs": [
        {
          "data": {
            "text/html": [
              "<div>\n",
              "<style scoped>\n",
              "    .dataframe tbody tr th:only-of-type {\n",
              "        vertical-align: middle;\n",
              "    }\n",
              "\n",
              "    .dataframe tbody tr th {\n",
              "        vertical-align: top;\n",
              "    }\n",
              "\n",
              "    .dataframe thead th {\n",
              "        text-align: right;\n",
              "    }\n",
              "</style>\n",
              "<table border=\"1\" class=\"dataframe\">\n",
              "  <thead>\n",
              "    <tr style=\"text-align: right;\">\n",
              "      <th></th>\n",
              "      <th>resource_id</th>\n",
              "      <th>resource_name</th>\n",
              "      <th>resource_url</th>\n",
              "      <th>description</th>\n",
              "      <th>archived</th>\n",
              "      <th>format</th>\n",
              "      <th>type</th>\n",
              "      <th>runtime</th>\n",
              "      <th>subject_areas</th>\n",
              "      <th>authoring_organization</th>\n",
              "      <th>intended_audiences</th>\n",
              "      <th>record_modified</th>\n",
              "      <th>resource_revised</th>\n",
              "    </tr>\n",
              "  </thead>\n",
              "  <tbody>\n",
              "    <tr>\n",
              "      <th>count</th>\n",
              "      <td>617</td>\n",
              "      <td>617</td>\n",
              "      <td>617</td>\n",
              "      <td>617</td>\n",
              "      <td>617</td>\n",
              "      <td>617</td>\n",
              "      <td>617</td>\n",
              "      <td>617</td>\n",
              "      <td>617</td>\n",
              "      <td>617</td>\n",
              "      <td>617</td>\n",
              "      <td>617</td>\n",
              "      <td>617</td>\n",
              "    </tr>\n",
              "    <tr>\n",
              "      <th>unique</th>\n",
              "      <td>617</td>\n",
              "      <td>599</td>\n",
              "      <td>617</td>\n",
              "      <td>589</td>\n",
              "      <td>1</td>\n",
              "      <td>6</td>\n",
              "      <td>15</td>\n",
              "      <td>107</td>\n",
              "      <td>144</td>\n",
              "      <td>16</td>\n",
              "      <td>7</td>\n",
              "      <td>184</td>\n",
              "      <td>361</td>\n",
              "    </tr>\n",
              "    <tr>\n",
              "      <th>top</th>\n",
              "      <td>L004282112</td>\n",
              "      <td>Getting Started with NCBI Data in Python</td>\n",
              "      <td>https://www.nlm.nih.gov/exhibition/shakespeare...</td>\n",
              "      <td>The amount of biomolecular structure data prod...</td>\n",
              "      <td>False</td>\n",
              "      <td>MP4 Video</td>\n",
              "      <td>YouTube Video</td>\n",
              "      <td>Unknown</td>\n",
              "      <td>Genetics and Molecular Biology; Bioinformatics</td>\n",
              "      <td>Training Team, User Engagement Program</td>\n",
              "      <td>Everyone; Educator</td>\n",
              "      <td>03/14/2025 12:00:00 AM</td>\n",
              "      <td>01/24/2024 12:00:00 AM</td>\n",
              "    </tr>\n",
              "    <tr>\n",
              "      <th>freq</th>\n",
              "      <td>1</td>\n",
              "      <td>2</td>\n",
              "      <td>1</td>\n",
              "      <td>3</td>\n",
              "      <td>617</td>\n",
              "      <td>340</td>\n",
              "      <td>252</td>\n",
              "      <td>185</td>\n",
              "      <td>61</td>\n",
              "      <td>210</td>\n",
              "      <td>260</td>\n",
              "      <td>51</td>\n",
              "      <td>28</td>\n",
              "    </tr>\n",
              "  </tbody>\n",
              "</table>\n",
              "</div>"
            ],
            "text/plain": [
              "       resource_id                             resource_name  \\\n",
              "count          617                                       617   \n",
              "unique         617                                       599   \n",
              "top     L004282112  Getting Started with NCBI Data in Python   \n",
              "freq             1                                         2   \n",
              "\n",
              "                                             resource_url  \\\n",
              "count                                                 617   \n",
              "unique                                                617   \n",
              "top     https://www.nlm.nih.gov/exhibition/shakespeare...   \n",
              "freq                                                    1   \n",
              "\n",
              "                                              description archived     format  \\\n",
              "count                                                 617      617        617   \n",
              "unique                                                589        1          6   \n",
              "top     The amount of biomolecular structure data prod...    False  MP4 Video   \n",
              "freq                                                    3      617        340   \n",
              "\n",
              "                 type  runtime  \\\n",
              "count             617      617   \n",
              "unique             15      107   \n",
              "top     YouTube Video  Unknown   \n",
              "freq              252      185   \n",
              "\n",
              "                                         subject_areas  \\\n",
              "count                                              617   \n",
              "unique                                             144   \n",
              "top     Genetics and Molecular Biology; Bioinformatics   \n",
              "freq                                                61   \n",
              "\n",
              "                        authoring_organization  intended_audiences  \\\n",
              "count                                      617                 617   \n",
              "unique                                      16                   7   \n",
              "top     Training Team, User Engagement Program  Everyone; Educator   \n",
              "freq                                       210                 260   \n",
              "\n",
              "               record_modified        resource_revised  \n",
              "count                      617                     617  \n",
              "unique                     184                     361  \n",
              "top     03/14/2025 12:00:00 AM  01/24/2024 12:00:00 AM  \n",
              "freq                        51                      28  "
            ]
          },
          "execution_count": 5,
          "metadata": {},
          "output_type": "execute_result"
        }
      ],
      "source": [
        "df.describe()"
      ]
    },
    {
      "cell_type": "markdown",
      "metadata": {},
      "source": [
        "### Memeriksa Data yang Bernilai Null"
      ]
    },
    {
      "cell_type": "code",
      "execution_count": 6,
      "metadata": {},
      "outputs": [
        {
          "data": {
            "text/plain": [
              "resource_id               0\n",
              "resource_name             0\n",
              "resource_url              0\n",
              "description               0\n",
              "archived                  0\n",
              "format                    0\n",
              "type                      0\n",
              "runtime                   0\n",
              "subject_areas             0\n",
              "authoring_organization    0\n",
              "intended_audiences        0\n",
              "record_modified           0\n",
              "resource_revised          0\n",
              "dtype: int64"
            ]
          },
          "execution_count": 6,
          "metadata": {},
          "output_type": "execute_result"
        }
      ],
      "source": [
        "df.isnull().sum()"
      ]
    },
    {
      "cell_type": "markdown",
      "metadata": {},
      "source": [
        "Hasilnya data tidak ada yang 'Null Values'"
      ]
    },
    {
      "cell_type": "markdown",
      "metadata": {},
      "source": [
        "### Memeriksa Data yang Berduplikat"
      ]
    },
    {
      "cell_type": "code",
      "execution_count": 7,
      "metadata": {},
      "outputs": [
        {
          "data": {
            "text/plain": [
              "np.int64(0)"
            ]
          },
          "execution_count": 7,
          "metadata": {},
          "output_type": "execute_result"
        }
      ],
      "source": [
        "df.duplicated().sum()"
      ]
    },
    {
      "cell_type": "markdown",
      "metadata": {},
      "source": [
        "Hasilnya data tidak ada yang data yang duplikat"
      ]
    },
    {
      "cell_type": "markdown",
      "metadata": {},
      "source": [
        "### Mencari Nilai Unik dari Data"
      ]
    },
    {
      "cell_type": "code",
      "execution_count": 8,
      "metadata": {},
      "outputs": [
        {
          "data": {
            "text/plain": [
              "resource_id               617\n",
              "resource_name             599\n",
              "resource_url              617\n",
              "description               589\n",
              "archived                    1\n",
              "format                      6\n",
              "type                       15\n",
              "runtime                   107\n",
              "subject_areas             144\n",
              "authoring_organization     16\n",
              "intended_audiences          7\n",
              "record_modified           184\n",
              "resource_revised          361\n",
              "dtype: int64"
            ]
          },
          "execution_count": 8,
          "metadata": {},
          "output_type": "execute_result"
        }
      ],
      "source": [
        "df.nunique()"
      ]
    },
    {
      "cell_type": "markdown",
      "metadata": {},
      "source": [
        "### Menunjukkan frekuensi (jumlah kemunculan) dari setiap nilai unik yang terdapat dalam kolom 'format'."
      ]
    },
    {
      "cell_type": "code",
      "execution_count": 9,
      "metadata": {},
      "outputs": [
        {
          "data": {
            "text/plain": [
              "format\n",
              "MP4 Video     340\n",
              "HTML          222\n",
              "PDF            23\n",
              "ZIP            21\n",
              "MS Word         6\n",
              "PowerPoint      5\n",
              "Name: count, dtype: int64"
            ]
          },
          "execution_count": 9,
          "metadata": {},
          "output_type": "execute_result"
        }
      ],
      "source": [
        "df['format'].value_counts()"
      ]
    },
    {
      "cell_type": "markdown",
      "metadata": {},
      "source": [
        "### Menunjukkan frekuensi (jumlah kemunculan) dari setiap nilai unik yang terdapat dalam kolom 'runtime'."
      ]
    },
    {
      "cell_type": "code",
      "execution_count": 10,
      "metadata": {},
      "outputs": [
        {
          "data": {
            "text/plain": [
              "runtime\n",
              "Unknown    185\n",
              "2.0         42\n",
              "60.0        34\n",
              "3.0         31\n",
              "4.0         26\n",
              "          ... \n",
              "94.0         1\n",
              "91.0         1\n",
              "25.0         1\n",
              "32.0         1\n",
              "127.0        1\n",
              "Name: count, Length: 107, dtype: int64"
            ]
          },
          "execution_count": 10,
          "metadata": {},
          "output_type": "execute_result"
        }
      ],
      "source": [
        "df['runtime'].value_counts()"
      ]
    },
    {
      "cell_type": "markdown",
      "metadata": {},
      "source": [
        "### Menunjukkan frekuensi (jumlah kemunculan) dari setiap nilai unik yang terdapat dalam kolom 'subject_areas'."
      ]
    },
    {
      "cell_type": "code",
      "execution_count": 11,
      "metadata": {},
      "outputs": [
        {
          "data": {
            "text/plain": [
              "subject_areas\n",
              "Genetics and Molecular Biology; Bioinformatics                           0.098865\n",
              "PubMed                                                                   0.090762\n",
              "Genetics and Molecular Biology                                           0.087520\n",
              "ClinicalTrials.gov                                                       0.050243\n",
              "K-12 Education; History of Medicine                                      0.040519\n",
              "                                                                           ...   \n",
              "Health Services Research; Data Management; Common Data Elements (CDE)    0.001621\n",
              "Genetics and Molecular Biology; Data Science                             0.001621\n",
              "My NCBI; NIH Manuscript System                                           0.001621\n",
              "Drugs and Chemicals; PubMed; Clinical Medicine; Nursing; Bookshelf       0.001621\n",
              "Genetics and Molecular Biology; Developmental Biology; Immunology        0.001621\n",
              "Name: proportion, Length: 144, dtype: float64"
            ]
          },
          "execution_count": 11,
          "metadata": {},
          "output_type": "execute_result"
        }
      ],
      "source": [
        "df['subject_areas'].value_counts(5)"
      ]
    },
    {
      "cell_type": "markdown",
      "metadata": {},
      "source": [
        "### Menunjukkan frekuensi (jumlah kemunculan) dari setiap nilai unik yang terdapat dalam kolom 'authoring_organization'."
      ]
    },
    {
      "cell_type": "code",
      "execution_count": 12,
      "metadata": {},
      "outputs": [
        {
          "data": {
            "text/plain": [
              "authoring_organization\n",
              "Training Team, User Engagement Program         210\n",
              "Training Team, NCBI                            158\n",
              "Network of the National Library of Medicine    116\n",
              "Exhibitions Team                                43\n",
              "ClinicalTrials.gov Team, NCBI                   24\n",
              "Terminology Services                            19\n",
              "Other NIH                                       11\n",
              "Office of Communications and Public Liaison     10\n",
              "PubMed Central Team, NCBI                        9\n",
              "MedlinePlus Team                                 7\n",
              "Metadata Management Program                      2\n",
              "NIHMS Team, NCBI                                 2\n",
              "External Organization                            2\n",
              "NLM Intramural Research Division                 2\n",
              "Bookshelf Team, NCBI                             1\n",
              "Common Data Element Repository Team              1\n",
              "Name: count, dtype: int64"
            ]
          },
          "execution_count": 12,
          "metadata": {},
          "output_type": "execute_result"
        }
      ],
      "source": [
        "df['authoring_organization'].value_counts()"
      ]
    },
    {
      "cell_type": "markdown",
      "metadata": {},
      "source": [
        "### Menunjukkan frekuensi (jumlah kemunculan) dari setiap nilai unik yang terdapat dalam kolom 'intended_audiences'."
      ]
    },
    {
      "cell_type": "code",
      "execution_count": 13,
      "metadata": {},
      "outputs": [
        {
          "data": {
            "text/plain": [
              "intended_audiences\n",
              "Everyone; Educator               260\n",
              "Everyone                         251\n",
              "Educator                          45\n",
              "Everyone; Educator; Developer     31\n",
              "Educator; Developer               20\n",
              "Everyone; Developer                8\n",
              "Developer                          2\n",
              "Name: count, dtype: int64"
            ]
          },
          "execution_count": 13,
          "metadata": {},
          "output_type": "execute_result"
        }
      ],
      "source": [
        "df['intended_audiences'].value_counts()"
      ]
    },
    {
      "cell_type": "markdown",
      "metadata": {},
      "source": [
        "### Mengidentifikasi fitur dalam DataFrame df yang hampir konstan atau didominasi oleh satu nilai tertentu."
      ]
    },
    {
      "cell_type": "code",
      "execution_count": 14,
      "metadata": {},
      "outputs": [
        {
          "name": "stdout",
          "output_type": "stream",
          "text": [
            "IDENTIFY CONSTANT FEATURES :\n",
            "archived 100.00%\n"
          ]
        }
      ],
      "source": [
        "print(\"IDENTIFY CONSTANT FEATURES :\")\n",
        "for col in df:\n",
        "  top_pct = df[col].value_counts(normalize=True).max()\n",
        "  if top_pct > 0.95:\n",
        "    print(f\"{col} {top_pct:.2%}\")"
      ]
    },
    {
      "cell_type": "markdown",
      "metadata": {},
      "source": [
        "### Visualisasi distribusi"
      ]
    },
    {
      "cell_type": "code",
      "execution_count": 15,
      "metadata": {},
      "outputs": [
        {
          "data": {
            "image/png": "[encoded data removed]",
            "text/plain": [
              "<Figure size 1000x600 with 1 Axes>"
            ]
          },
          "metadata": {},
          "output_type": "display_data"
        },
        {
          "data": {
            "image/png": "[encoded data removed]",
            "text/plain": [
              "<Figure size 1000x600 with 1 Axes>"
            ]
          },
          "metadata": {},
          "output_type": "display_data"
        }
      ],
      "source": [
        "# Visualisasi distribusi format sumber daya\n",
        "plt.figure(figsize=(10, 6))\n",
        "sns.countplot(data=df, y='format', order=df['format'].value_counts().index, palette='Blues')\n",
        "plt.title('Distribusi Format Sumber Daya Pembelajaran Medis')\n",
        "plt.xlabel('Jumlah')\n",
        "plt.ylabel('Format')\n",
        "plt.show()\n",
        "\n",
        "# Visualisasi distribusi jenis sumber daya\n",
        "plt.figure(figsize=(10, 6))\n",
        "sns.countplot(data=df, y='type', order=df['type'].value_counts().index, palette='Blues')\n",
        "plt.title('Distribusi Jenis Sumber Daya Pembelajaran Medis')\n",
        "plt.xlabel('Jumlah')\n",
        "plt.ylabel('Jenis')\n",
        "plt.show()"
      ]
    },
    {
      "cell_type": "markdown",
      "metadata": {
        "id": "cpgHfgnSK3ip"
      },
      "source": [
        "# **5. Data Preprocessing**"
      ]
    },
    {
      "cell_type": "markdown",
      "metadata": {
        "id": "COf8KUPXLg5r"
      },
      "source": [
        "Pada tahap ini, data preprocessing adalah langkah penting untuk memastikan kualitas data sebelum digunakan dalam model machine learning.\n",
        "\n",
        "Jika Anda menggunakan data teks, data mentah sering kali mengandung nilai kosong, duplikasi, atau rentang nilai yang tidak konsisten, yang dapat memengaruhi kinerja model. Oleh karena itu, proses ini bertujuan untuk membersihkan dan mempersiapkan data agar analisis berjalan optimal.\n",
        "\n",
        "Berikut adalah tahapan-tahapan yang bisa dilakukan, tetapi **tidak terbatas** pada:\n",
        "1. Menghapus atau Menangani Data Kosong (Missing Values)\n",
        "2. Menghapus Data Duplikat\n",
        "3. Normalisasi atau Standarisasi Fitur\n",
        "4. Deteksi dan Penanganan Outlier\n",
        "5. Encoding Data Kategorikal\n",
        "6. Binning (Pengelompokan Data)\n",
        "\n",
        "Cukup sesuaikan dengan karakteristik data yang kamu gunakan yah. Khususnya ketika kami menggunakan data tidak terstruktur."
      ]
    },
    {
      "cell_type": "markdown",
      "metadata": {},
      "source": [
        "### Menghapus fitur tertentu dari dataset"
      ]
    },
    {
      "cell_type": "code",
      "execution_count": 16,
      "metadata": {
        "id": "Og8pGV0-iDLz"
      },
      "outputs": [
        {
          "name": "stdout",
          "output_type": "stream",
          "text": [
            "DELETED CONSTANT FEATURES....\n"
          ]
        }
      ],
      "source": [
        "print ('DELETED CONSTANT FEATURES....')\n",
        "df.drop([\"archived\", \"record_modified\", \"resource_revised\"], axis=1, inplace=True)"
      ]
    },
    {
      "cell_type": "markdown",
      "metadata": {},
      "source": [
        "### Melihat DataFrame"
      ]
    },
    {
      "cell_type": "code",
      "execution_count": 17,
      "metadata": {},
      "outputs": [
        {
          "data": {
            "text/html": [
              "<div>\n",
              "<style scoped>\n",
              "    .dataframe tbody tr th:only-of-type {\n",
              "        vertical-align: middle;\n",
              "    }\n",
              "\n",
              "    .dataframe tbody tr th {\n",
              "        vertical-align: top;\n",
              "    }\n",
              "\n",
              "    .dataframe thead th {\n",
              "        text-align: right;\n",
              "    }\n",
              "</style>\n",
              "<table border=\"1\" class=\"dataframe\">\n",
              "  <thead>\n",
              "    <tr style=\"text-align: right;\">\n",
              "      <th></th>\n",
              "      <th>resource_id</th>\n",
              "      <th>resource_name</th>\n",
              "      <th>resource_url</th>\n",
              "      <th>description</th>\n",
              "      <th>format</th>\n",
              "      <th>type</th>\n",
              "      <th>runtime</th>\n",
              "      <th>subject_areas</th>\n",
              "      <th>authoring_organization</th>\n",
              "      <th>intended_audiences</th>\n",
              "    </tr>\n",
              "  </thead>\n",
              "  <tbody>\n",
              "    <tr>\n",
              "      <th>0</th>\n",
              "      <td>L00691080</td>\n",
              "      <td>2018 MeSH Highlights</td>\n",
              "      <td>https://www.nlm.nih.gov/bsd/disted/clinics/mes...</td>\n",
              "      <td>On January 5, 2018, NLM staff provided a highl...</td>\n",
              "      <td>MP4 Video</td>\n",
              "      <td>Webinar</td>\n",
              "      <td>21.0</td>\n",
              "      <td>Medical Subject Headings (MeSH); PubMed</td>\n",
              "      <td>Training Team, User Engagement Program</td>\n",
              "      <td>Everyone; Educator; Developer</td>\n",
              "    </tr>\n",
              "    <tr>\n",
              "      <th>1</th>\n",
              "      <td>L000854112</td>\n",
              "      <td>2019 MeSH Highlights</td>\n",
              "      <td>https://www.nlm.nih.gov/bsd/disted/clinics/mes...</td>\n",
              "      <td>On January 4, 2019, NLM staff provided a highl...</td>\n",
              "      <td>MP4 Video</td>\n",
              "      <td>Webinar</td>\n",
              "      <td>30.0</td>\n",
              "      <td>Medical Subject Headings (MeSH); PubMed</td>\n",
              "      <td>Training Team, User Engagement Program</td>\n",
              "      <td>Everyone; Educator; Developer</td>\n",
              "    </tr>\n",
              "    <tr>\n",
              "      <th>2</th>\n",
              "      <td>L001321112</td>\n",
              "      <td>2020 MeSH Highlights</td>\n",
              "      <td>https://www.nlm.nih.gov/oet/ed/mesh/2020_mesh_...</td>\n",
              "      <td>On January 10, 2020, Sarah Helson from the Nat...</td>\n",
              "      <td>MP4 Video</td>\n",
              "      <td>Webinar</td>\n",
              "      <td>46.0</td>\n",
              "      <td>Medical Subject Headings (MeSH); PubMed</td>\n",
              "      <td>Training Team, User Engagement Program</td>\n",
              "      <td>Everyone; Educator; Developer</td>\n",
              "    </tr>\n",
              "    <tr>\n",
              "      <th>3</th>\n",
              "      <td>L001961112</td>\n",
              "      <td>2021 MeSH Highlights</td>\n",
              "      <td>https://www.nlm.nih.gov/oet/ed/mesh/2021_mesh_...</td>\n",
              "      <td>Every year, updates are made to MeSH, the NLM ...</td>\n",
              "      <td>MP4 Video</td>\n",
              "      <td>Webinar</td>\n",
              "      <td>53.0</td>\n",
              "      <td>Medical Subject Headings (MeSH); PubMed</td>\n",
              "      <td>Training Team, User Engagement Program</td>\n",
              "      <td>Everyone; Educator; Developer</td>\n",
              "    </tr>\n",
              "    <tr>\n",
              "      <th>4</th>\n",
              "      <td>L002741112</td>\n",
              "      <td>2022 MeSH Highlights</td>\n",
              "      <td>https://www.nlm.nih.gov/oet/ed/mesh/2022_mesh_...</td>\n",
              "      <td>On January 12, 2022, Louise To and a panel of ...</td>\n",
              "      <td>MP4 Video</td>\n",
              "      <td>Webinar</td>\n",
              "      <td>53.0</td>\n",
              "      <td>Medical Subject Headings (MeSH); PubMed</td>\n",
              "      <td>Training Team, User Engagement Program</td>\n",
              "      <td>Everyone; Educator; Developer</td>\n",
              "    </tr>\n",
              "  </tbody>\n",
              "</table>\n",
              "</div>"
            ],
            "text/plain": [
              "  resource_id         resource_name  \\\n",
              "0   L00691080  2018 MeSH Highlights   \n",
              "1  L000854112  2019 MeSH Highlights   \n",
              "2  L001321112  2020 MeSH Highlights   \n",
              "3  L001961112  2021 MeSH Highlights   \n",
              "4  L002741112  2022 MeSH Highlights   \n",
              "\n",
              "                                        resource_url  \\\n",
              "0  https://www.nlm.nih.gov/bsd/disted/clinics/mes...   \n",
              "1  https://www.nlm.nih.gov/bsd/disted/clinics/mes...   \n",
              "2  https://www.nlm.nih.gov/oet/ed/mesh/2020_mesh_...   \n",
              "3  https://www.nlm.nih.gov/oet/ed/mesh/2021_mesh_...   \n",
              "4  https://www.nlm.nih.gov/oet/ed/mesh/2022_mesh_...   \n",
              "\n",
              "                                         description     format     type  \\\n",
              "0  On January 5, 2018, NLM staff provided a highl...  MP4 Video  Webinar   \n",
              "1  On January 4, 2019, NLM staff provided a highl...  MP4 Video  Webinar   \n",
              "2  On January 10, 2020, Sarah Helson from the Nat...  MP4 Video  Webinar   \n",
              "3  Every year, updates are made to MeSH, the NLM ...  MP4 Video  Webinar   \n",
              "4  On January 12, 2022, Louise To and a panel of ...  MP4 Video  Webinar   \n",
              "\n",
              "  runtime                            subject_areas  \\\n",
              "0    21.0  Medical Subject Headings (MeSH); PubMed   \n",
              "1    30.0  Medical Subject Headings (MeSH); PubMed   \n",
              "2    46.0  Medical Subject Headings (MeSH); PubMed   \n",
              "3    53.0  Medical Subject Headings (MeSH); PubMed   \n",
              "4    53.0  Medical Subject Headings (MeSH); PubMed   \n",
              "\n",
              "                   authoring_organization             intended_audiences  \n",
              "0  Training Team, User Engagement Program  Everyone; Educator; Developer  \n",
              "1  Training Team, User Engagement Program  Everyone; Educator; Developer  \n",
              "2  Training Team, User Engagement Program  Everyone; Educator; Developer  \n",
              "3  Training Team, User Engagement Program  Everyone; Educator; Developer  \n",
              "4  Training Team, User Engagement Program  Everyone; Educator; Developer  "
            ]
          },
          "execution_count": 17,
          "metadata": {},
          "output_type": "execute_result"
        }
      ],
      "source": [
        "df.head()"
      ]
    },
    {
      "cell_type": "markdown",
      "metadata": {},
      "source": [
        "### Mengisi semua nilai yang kosong (NaN atau NaT) dalam DataFrame Pandas df dengan string kosong ('') secara langsung pada DataFrame tersebut."
      ]
    },
    {
      "cell_type": "code",
      "execution_count": 18,
      "metadata": {},
      "outputs": [],
      "source": [
        "df.fillna('', inplace=True)"
      ]
    },
    {
      "cell_type": "markdown",
      "metadata": {},
      "source": [
        "### Membersihkan dan menstandarisasi satu teks input melalui beberapa tahap, seperti menghilangkan karakter spesial, normalisasi spasi, dan mengubah teks menjadi huruf kecil, untuk mempersiapkannya untuk pemrosesan lebih lanjut."
      ]
    },
    {
      "cell_type": "code",
      "execution_count": 19,
      "metadata": {},
      "outputs": [],
      "source": [
        "def preprocess_individual_text(text_input):\n",
        "    # Pastikan input adalah string\n",
        "    text = str(text_input)\n",
        "\n",
        "    # Hapus semua karakter spesial (ganti non-alphanumeric dengan spasi)\n",
        "    processed_text = re.sub(r'\\W', ' ', text)\n",
        "\n",
        "    # Hapus semua karakter tunggal yang diapit spasi\n",
        "    processed_text = re.sub(r'\\s+[a-zA-Z]\\s+', ' ', processed_text)\n",
        "\n",
        "    # Hapus karakter tunggal dari awal string (jika diikuti spasi)\n",
        "    # Regex diperbaiki: r'^[a-zA-Z]\\s+' (tanpa '\\' sebelum '^')\n",
        "    processed_text = re.sub(r'^[a-zA-Z]\\s+', ' ', processed_text)\n",
        "\n",
        "    # Ganti spasi ganda (atau lebih) dengan spasi tunggal\n",
        "    processed_text = re.sub(r'\\s+', ' ', processed_text, flags=re.I)\n",
        "\n",
        "    # Hapus prefix 'b ' (biasanya dari representasi byte string seperti b'text')\n",
        "    processed_text = re.sub(r'^b\\s+', '', processed_text)\n",
        "\n",
        "    # Ubah ke huruf kecil\n",
        "    processed_text = processed_text.lower()\n",
        "\n",
        "    # Hapus spasi di awal dan akhir\n",
        "    processed_text = processed_text.strip()\n",
        "\n",
        "    return processed_text"
      ]
    },
    {
      "cell_type": "markdown",
      "metadata": {},
      "source": [
        "### Membersihkan dan menstandarisasi teks"
      ]
    },
    {
      "cell_type": "code",
      "execution_count": 20,
      "metadata": {},
      "outputs": [],
      "source": [
        "df['resource_name'] = df['resource_name'].apply(preprocess_individual_text)\n",
        "df['description'] = df['description'].apply(preprocess_individual_text)\n",
        "df['intended_audiences'] = df['intended_audiences'].apply(preprocess_individual_text)\n",
        "df['subject_areas'] = df['subject_areas'].apply(preprocess_individual_text)\n",
        "df['type'] = df['type'].apply(preprocess_individual_text)\n",
        "df['authoring_organization'] = df['authoring_organization'].apply(preprocess_individual_text)"
      ]
    },
    {
      "cell_type": "markdown",
      "metadata": {},
      "source": [
        "### Menggabungkan teks dari beberapa kolom"
      ]
    },
    {
      "cell_type": "code",
      "execution_count": 21,
      "metadata": {},
      "outputs": [],
      "source": [
        "def create_content_soup(x):\n",
        "    subject_areas = \" \".join(x[\"subject_areas\"].replace(';',' ').split())\n",
        "    intended_audiences = \" \".join(x[\"intended_audiences\"].replace(';',' ').split())\n",
        "\n",
        "    return (x[\"resource_name\"] + ' ' +\n",
        "            x[\"description\"]+ ' ' +\n",
        "            subject_areas + ' ' +\n",
        "            x[\"type\"] + ' ' +\n",
        "            intended_audiences + ' ' +\n",
        "            x[\"authoring_organization\"])"
      ]
    },
    {
      "cell_type": "markdown",
      "metadata": {},
      "source": [
        "### Membuat kolom baru bernama content_soup di DataFrame df"
      ]
    },
    {
      "cell_type": "code",
      "execution_count": 22,
      "metadata": {},
      "outputs": [],
      "source": [
        "df[\"content_soup\"] = df.apply(create_content_soup, axis=1)"
      ]
    },
    {
      "cell_type": "markdown",
      "metadata": {},
      "source": [
        "### Melihat data `content_soup` dari baris kedua (indeks 1) dari DataFrame"
      ]
    },
    {
      "cell_type": "code",
      "execution_count": 23,
      "metadata": {},
      "outputs": [
        {
          "data": {
            "text/plain": [
              "'2019 mesh highlights on january 4 2019 nlm staff provided highlights tour of the 2019 medical subject headings mesh 20 minute presentation featured new publication types including systematic reviews three deleted subheadings and additional terminology for data neoplasms and more medical subject headings mesh pubmed webinar everyone educator developer training team user engagement program'"
            ]
          },
          "execution_count": 23,
          "metadata": {},
          "output_type": "execute_result"
        }
      ],
      "source": [
        "df['content_soup'].iloc[1]"
      ]
    }
  ],
  "metadata": {
    "accelerator": "GPU",
    "colab": {
      "gpuType": "T4",
      "provenance": []
    },
    "kernelspec": {
      "display_name": "dicoding-SFGD4jSA",
      "language": "python",
      "name": "python3"
    },
    "language_info": {
      "codemirror_mode": {
        "name": "ipython",
        "version": 3
      },
      "file_extension": ".py",
      "mimetype": "text/x-python",
      "name": "python",
      "nbconvert_exporter": "python",
      "pygments_lexer": "ipython3",
      "version": "3.11.0"
    }
  },
  "nbformat": 4,
  "nbformat_minor": 0
}
